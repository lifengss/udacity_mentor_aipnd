{
 "cells": [
  {
   "cell_type": "markdown",
   "metadata": {},
   "source": [
    "## 项目环境检验\n",
    "\n",
    "- 本项目需要大家实现的代码部分，主要还是用到Python本身带的包\n",
    "- 以下微信项目都会用到，但是基本上都出现在已经写好不用修改的代码部分，初学者可以忽略\n",
    "- 请运行这段代码，检验项目所需要的包是否正确安装，以便整个项目代码能顺利运行\n",
    "- 感兴趣的同学可以了解一下每个包大概的用途以及在项目代码中的具体用法"
   ]
  },
  {
   "cell_type": "code",
   "execution_count": 3,
   "metadata": {},
   "outputs": [
    {
     "name": "stdout",
     "output_type": "stream",
     "text": [
      "所有库导入成功！\n"
     ]
    }
   ],
   "source": [
    "import os #与操作系统打交道，如读写文件\n",
    "import PIL.Image as Image #图像处理，如读取，显示图片等\n",
    "import re  #正则表达式匹配，文本解析，复杂字符串分析，信息提取等\n",
    "\n",
    "import numpy as np  #快速处理矩阵运算,效率高，弥补Python慢的缺陷\n",
    "import pandas as pd #基于numpy含有更高数据结构的数据分析包\n",
    "import matplotlib.pyplot as plt #数据可视化\n",
    "\n",
    "import itchat #开源的微信个人接口，本项目主要用于获取微信好友信息\n",
    "import pinyin #汉字转化汉语拼音\n",
    "from wordcloud import WordCloud #生成词云\n",
    "import jieba #中文分词\n",
    "from snownlp import SnowNLP #处理中文文本的包， 本项目主要用于情感分析\n",
    "\n",
    "#内嵌绘图\n",
    "%matplotlib inline  \n",
    "print(\"所有库导入成功！\")"
   ]
  },
  {
   "cell_type": "markdown",
   "metadata": {},
   "source": [
    "如果出现如下错误“ModuleNotFoundError:No module named **some_package_name**“\n",
    "\n",
    "1. 以管理员模式启动命令行（右键有管理员模式菜单），重新安装，命令如下:\n",
    "      pip install **some_package_name**      \n",
    "2. 有的同学以管理员模式还是失败，很有可能是你的网络状况太差，特别是访问github有困难的同学，多试几次。\n",
    "\n",
    "3. 如果还不行，请发清晰截图给我，我看看具体是什么问题\n"
   ]
  }
 ],
 "metadata": {
  "kernelspec": {
   "display_name": "Python 3",
   "language": "python",
   "name": "python3"
  },
  "language_info": {
   "codemirror_mode": {
    "name": "ipython",
    "version": 3
   },
   "file_extension": ".py",
   "mimetype": "text/x-python",
   "name": "python",
   "nbconvert_exporter": "python",
   "pygments_lexer": "ipython3",
   "version": "3.6.4"
  }
 },
 "nbformat": 4,
 "nbformat_minor": 2
}
