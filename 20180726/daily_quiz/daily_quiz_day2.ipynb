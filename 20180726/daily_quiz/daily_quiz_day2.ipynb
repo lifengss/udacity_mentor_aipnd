{
 "cells": [
  {
   "cell_type": "markdown",
   "metadata": {},
   "source": [
    "# 每日一问：第二天"
   ]
  },
  {
   "cell_type": "markdown",
   "metadata": {},
   "source": [
    "### 任务\n",
    "\n",
    "- 了解容器类数据类型，列表，字典，元组，集合的特点以及它们的区别。\n",
    "- 练习使用jupyter notebook基本命令\n",
    "    - 切换到命令模式：**Esc**\n",
    "    - 在区域前插入Cell: **A** \n",
    "    - 在区域后插入Cell: **B**\n",
    "    - 切换成Markdown模式： **M**\n",
    "    - Markdown双击开始编辑    \n",
    "    - Code和Markdown区域运行：**Shift + Enter**\n",
    "    - 更多用法你可以参考课程内容，也可以查阅 jupyter notebook [帮助文档](https://jupyter.org/documentation)\n",
    "- 在练习的过程中，如果你遇到问题，你可以回顾课程内容，也可以查阅 [Python官方文档](https://docs.python.org/3/)\n",
    "- 请每位同学选择下面与自己学号对应的问题练习， 学有余力的同学也可以完成所有练习"
   ]
  },
  {
   "cell_type": "markdown",
   "metadata": {},
   "source": [
    "### 问题1：\n",
    "什么叫可变对象？什么叫不可变对象？Python中哪些对象是可变的？哪些是不可变的？  "
   ]
  },
  {
   "cell_type": "code",
   "execution_count": 67,
   "metadata": {},
   "outputs": [],
   "source": [
    "# Try your code here\n"
   ]
  },
  {
   "cell_type": "markdown",
   "metadata": {},
   "source": [
    "### 回答1：（双击在下面回答问题）\n",
    "\n"
   ]
  },
  {
   "cell_type": "markdown",
   "metadata": {},
   "source": [
    "### 问题2：\n",
    "列表索引是从下标几开始？给定列表L=[1,2,3,4,5],print(L[0:3])的输出结果是什么？"
   ]
  },
  {
   "cell_type": "code",
   "execution_count": 68,
   "metadata": {},
   "outputs": [],
   "source": [
    "# Try your code here\n"
   ]
  },
  {
   "cell_type": "markdown",
   "metadata": {},
   "source": [
    "### 回答2：（双击在下面回答问题）\n"
   ]
  },
  {
   "cell_type": "markdown",
   "metadata": {},
   "source": [
    "### 问题3：\n",
    "L=[1,2,3,4,5]，print(L[5])的结果是什么？为什么？如果要取出最后一个元素，应该如何输出？"
   ]
  },
  {
   "cell_type": "code",
   "execution_count": 69,
   "metadata": {},
   "outputs": [],
   "source": [
    "# Try your code here \n"
   ]
  },
  {
   "cell_type": "markdown",
   "metadata": {},
   "source": [
    "### 回答3：（双击在下面回答问题）\n"
   ]
  },
  {
   "cell_type": "markdown",
   "metadata": {},
   "source": [
    "### 问题4：\n",
    "'sentence1 = \"I wish to register a complaint.\"请分别写出sentence1[30]和sentence1[-11]的结果"
   ]
  },
  {
   "cell_type": "code",
   "execution_count": 70,
   "metadata": {},
   "outputs": [],
   "source": [
    "# Try your code here \n"
   ]
  },
  {
   "cell_type": "markdown",
   "metadata": {},
   "source": [
    "### 回答4：（双击在下面回答问题）\n"
   ]
  },
  {
   "cell_type": "markdown",
   "metadata": {},
   "source": [
    "### 问题5：\n",
    "sentence1 = [\"I\", \"wish\", \"to\", \"register\", \"a\", \"complaint\", \".\"]请分别取出[\"I\",\"wish\"]和[\"complaint\",\".\"]。"
   ]
  },
  {
   "cell_type": "code",
   "execution_count": 71,
   "metadata": {},
   "outputs": [],
   "source": [
    "# Try your code here \n"
   ]
  },
  {
   "cell_type": "markdown",
   "metadata": {},
   "source": [
    "### 回答5：（双击在下面回答问题）\n"
   ]
  },
  {
   "cell_type": "markdown",
   "metadata": {},
   "source": [
    "### 问题6：\n",
    "L=[\"former\", \"latter\", \"starboard\"]，请完成：为L在末端添加一个元素“port”。\n"
   ]
  },
  {
   "cell_type": "code",
   "execution_count": 72,
   "metadata": {},
   "outputs": [],
   "source": [
    "# Try your code here \n"
   ]
  },
  {
   "cell_type": "markdown",
   "metadata": {},
   "source": [
    "### 回答6：（双击在下面回答问题）\n"
   ]
  },
  {
   "cell_type": "markdown",
   "metadata": {},
   "source": [
    "### 问题7：\n",
    "L1=[1,2,3,4,5], L2=[\"star\",\"moon\"], L3=[1,2,\"star\"]，运用max函数，输出最长的列表。"
   ]
  },
  {
   "cell_type": "code",
   "execution_count": 73,
   "metadata": {},
   "outputs": [],
   "source": [
    "# Try your code here \n"
   ]
  },
  {
   "cell_type": "markdown",
   "metadata": {},
   "source": [
    "### 回答7：（双击在下面回答问题）\n"
   ]
  },
  {
   "cell_type": "markdown",
   "metadata": {},
   "source": [
    "### 问题8：\n",
    "L=[\"Car\",\"Carl\",\"Care\",\"Coco\",\"Bar\"]，执行sorted(L)进行排序，试着总结sorted按什么规则对列表中字符串进行排序？"
   ]
  },
  {
   "cell_type": "code",
   "execution_count": 74,
   "metadata": {},
   "outputs": [],
   "source": [
    "# Try your code here \n"
   ]
  },
  {
   "cell_type": "markdown",
   "metadata": {},
   "source": [
    "### 回答8：（双击在下面回答问题）\n"
   ]
  },
  {
   "cell_type": "markdown",
   "metadata": {},
   "source": [
    "### 问题9：\n",
    "a=（2,3），试着用append方法将1添加进a的末端，可以成功运行么？如果令a=[2,3]或者a=\"2,3\"，能成功运行么？请分别解释原因。"
   ]
  },
  {
   "cell_type": "code",
   "execution_count": 75,
   "metadata": {},
   "outputs": [],
   "source": [
    "# Try your code here \n"
   ]
  },
  {
   "cell_type": "markdown",
   "metadata": {},
   "source": [
    "### 回答9：（双击在下面回答问题）\n"
   ]
  },
  {
   "cell_type": "markdown",
   "metadata": {},
   "source": [
    "### 问题10：\n",
    "设一个立方体的length, width, height = 40, 40, 40，请写一条输出语句输出立方体的体积。（要求输出形式为：The volume is  .）"
   ]
  },
  {
   "cell_type": "code",
   "execution_count": 76,
   "metadata": {},
   "outputs": [],
   "source": [
    "# Try your code here \n"
   ]
  },
  {
   "cell_type": "markdown",
   "metadata": {},
   "source": [
    "### 回答10：（双击在下面回答问题）\n"
   ]
  },
  {
   "cell_type": "markdown",
   "metadata": {},
   "source": [
    "### 问题11：\n",
    "a=（2,3,1,4,5）,b=2,3,1,4,5, a和b表达的含义相同么？请输出a中的第一个元素，b中最后一个元素，以及b的长度。"
   ]
  },
  {
   "cell_type": "code",
   "execution_count": 77,
   "metadata": {},
   "outputs": [],
   "source": [
    "# Try your code here \n"
   ]
  },
  {
   "cell_type": "markdown",
   "metadata": {},
   "source": [
    "### 回答11：（双击在下面回答问题）\n"
   ]
  },
  {
   "cell_type": "markdown",
   "metadata": {},
   "source": [
    "### 问题12：\n",
    "L=[1,2,3,4,1,4,5,6],请完成：①删除列表中的重复元素并输出一个集合；②将7随机添加到集合中；③随机从集合中删除一个元素。"
   ]
  },
  {
   "cell_type": "code",
   "execution_count": 78,
   "metadata": {},
   "outputs": [],
   "source": [
    "# Try your code here \n"
   ]
  },
  {
   "cell_type": "markdown",
   "metadata": {},
   "source": [
    "### 回答12：（双击在下面回答问题）\n"
   ]
  },
  {
   "cell_type": "markdown",
   "metadata": {},
   "source": [
    "### 问题13：\n",
    "'字典elements = {\"hydrogen\": 1, \"helium\": 2, \"carbon\": 6}中，哪些是键？哪些是值？键的类型可以有哪些？请输出“carbon”对应的值。"
   ]
  },
  {
   "cell_type": "code",
   "execution_count": 79,
   "metadata": {},
   "outputs": [],
   "source": [
    "# Try your code here \n"
   ]
  },
  {
   "cell_type": "markdown",
   "metadata": {},
   "source": [
    "### 回答13：（双击在下面回答问题）\n"
   ]
  },
  {
   "cell_type": "markdown",
   "metadata": {},
   "source": [
    "### 问题14：\n",
    "cube：length：40，width：40，height：40。请创建一个字典，包括cube的所有信息，并输出cube的width值。"
   ]
  },
  {
   "cell_type": "code",
   "execution_count": 80,
   "metadata": {},
   "outputs": [],
   "source": [
    "# Try your code here \n"
   ]
  },
  {
   "cell_type": "markdown",
   "metadata": {},
   "source": [
    "### 回答14：（双击在下面回答问题）\n"
   ]
  },
  {
   "cell_type": "markdown",
   "metadata": {},
   "source": [
    "### 问题15：\n",
    "cube：length：40，width：40，height：40, 请创建一个字典，包括cube的所有信息，并向字典中添加条目“color”和对应值\"red\"。"
   ]
  },
  {
   "cell_type": "code",
   "execution_count": 81,
   "metadata": {},
   "outputs": [],
   "source": [
    "# Try your code here \n"
   ]
  },
  {
   "cell_type": "markdown",
   "metadata": {},
   "source": [
    "### 回答15：（双击在下面回答问题）\n"
   ]
  }
 ],
 "metadata": {
  "kernelspec": {
   "display_name": "Python 3",
   "language": "python",
   "name": "python3"
  },
  "language_info": {
   "codemirror_mode": {
    "name": "ipython",
    "version": 3
   },
   "file_extension": ".py",
   "mimetype": "text/x-python",
   "name": "python",
   "nbconvert_exporter": "python",
   "pygments_lexer": "ipython3",
   "version": "3.6.4"
  }
 },
 "nbformat": 4,
 "nbformat_minor": 2
}
